{
  "nbformat": 4,
  "nbformat_minor": 0,
  "metadata": {
    "colab": {
      "provenance": []
    },
    "kernelspec": {
      "name": "python3",
      "display_name": "Python 3"
    },
    "language_info": {
      "name": "python"
    }
  },
  "cells": [
    {
      "cell_type": "code",
      "execution_count": null,
      "metadata": {
        "id": "18Og74BqPqZk"
      },
      "outputs": [],
      "source": [
        "import numpy as np\n",
        "import pandas as pd\n",
        "import random"
      ]
    },
    {
      "cell_type": "code",
      "source": [
        "INTERVAL = 5000\n",
        "ITERATIONS = 500000\n",
        "\n",
        "cnt_circle = 0\n",
        "cnt_square = 0\n",
        "\n",
        "averages = []\n",
        "for i in range(ITERATIONS):\n",
        "    pi = 0\n",
        "    for j in range(INTERVAL):\n",
        "        \n",
        "        # Randomly generated x and y values from a\n",
        "        # uniform distribution\n",
        "        # Range of x and y values is -1 to 1\n",
        "        rand_x = random.uniform(-1, 1)\n",
        "        rand_y = random.uniform(-1, 1)\n",
        "\n",
        "        # Distance between (x, y) from the origin\n",
        "        origin_dist = rand_x**2 + rand_y**2\n",
        "\n",
        "        if origin_dist <= 1:\n",
        "            cnt_circle += 1\n",
        "\n",
        "        cnt_square += 1\n",
        "\n",
        "        pi = 4 * cnt_circle / cnt_square\n",
        "    #print(\"Estmated pi value after\", (i+1), \"th iteration is\", pi)\n",
        "    averages.append(pi)\n",
        "print(\"Final Estimation of Pi=\", sum(averages)/len(averages))"
      ],
      "metadata": {
        "colab": {
          "base_uri": "https://localhost:8080/"
        },
        "id": "_fU-E5FaP1Qg",
        "outputId": "98208a8a-19cf-40d0-aadc-50f098e8716b"
      },
      "execution_count": null,
      "outputs": [
        {
          "output_type": "stream",
          "name": "stdout",
          "text": [
            "Final Estimation of Pi= 3.141596454815043\n"
          ]
        }
      ]
    },
    {
      "cell_type": "code",
      "source": [],
      "metadata": {
        "id": "0IiuHDVyQWEe"
      },
      "execution_count": null,
      "outputs": []
    }
  ]
}