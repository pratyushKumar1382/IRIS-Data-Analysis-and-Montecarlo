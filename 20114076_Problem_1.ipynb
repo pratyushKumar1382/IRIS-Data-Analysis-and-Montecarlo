{
  "cells": [
    {
      "cell_type": "markdown",
      "metadata": {
        "id": "WIEGxw2wU2_z"
      },
      "source": [
        "Problem Statement 1: Statistical Analysis of IRIS Dataset using your Python codes \n",
        "This problem consists of several tasks for statistical analysis on a dataset. "
      ]
    },
    {
      "cell_type": "markdown",
      "metadata": {
        "id": "g9pEKnW_U57L"
      },
      "source": [
        "1. First, download the popular dataset called Iris Data Set from the UCI Machine Learning \n",
        "Repository: https://www.kaggle.com/datasets/vikrishnan/iris-dataset\n",
        "Make the data available to your Python code by reading the downloaded file. "
      ]
    },
    {
      "cell_type": "code",
      "execution_count": 1,
      "metadata": {
        "id": "RQwGAsggU464"
      },
      "outputs": [],
      "source": [
        "import numpy as np\n",
        "import pandas as pd"
      ]
    },
    {
      "cell_type": "code",
      "execution_count": 2,
      "metadata": {
        "colab": {
          "base_uri": "https://localhost:8080/",
          "height": 424
        },
        "id": "g6FGbewmVEOv",
        "outputId": "f24bb266-7af8-4920-a307-54373bd287e1"
      },
      "outputs": [
        {
          "output_type": "execute_result",
          "data": {
            "text/plain": [
              "     Sepal length  Sepal width  Petal length  Petal width         Species\n",
              "0             5.1          3.5           1.4          0.2     Iris-setosa\n",
              "1             4.9          3.0           1.4          0.2     Iris-setosa\n",
              "2             4.7          3.2           1.3          0.2     Iris-setosa\n",
              "3             4.6          3.1           1.5          0.2     Iris-setosa\n",
              "4             5.0          3.6           1.4          0.2     Iris-setosa\n",
              "..            ...          ...           ...          ...             ...\n",
              "145           6.7          3.0           5.2          2.3  Iris-virginica\n",
              "146           6.3          2.5           5.0          1.9  Iris-virginica\n",
              "147           6.5          3.0           5.2          2.0  Iris-virginica\n",
              "148           6.2          3.4           5.4          2.3  Iris-virginica\n",
              "149           5.9          3.0           5.1          1.8  Iris-virginica\n",
              "\n",
              "[150 rows x 5 columns]"
            ],
            "text/html": [
              "\n",
              "  <div id=\"df-ce22f5fc-667c-4a98-bf30-e6f99766f827\">\n",
              "    <div class=\"colab-df-container\">\n",
              "      <div>\n",
              "<style scoped>\n",
              "    .dataframe tbody tr th:only-of-type {\n",
              "        vertical-align: middle;\n",
              "    }\n",
              "\n",
              "    .dataframe tbody tr th {\n",
              "        vertical-align: top;\n",
              "    }\n",
              "\n",
              "    .dataframe thead th {\n",
              "        text-align: right;\n",
              "    }\n",
              "</style>\n",
              "<table border=\"1\" class=\"dataframe\">\n",
              "  <thead>\n",
              "    <tr style=\"text-align: right;\">\n",
              "      <th></th>\n",
              "      <th>Sepal length</th>\n",
              "      <th>Sepal width</th>\n",
              "      <th>Petal length</th>\n",
              "      <th>Petal width</th>\n",
              "      <th>Species</th>\n",
              "    </tr>\n",
              "  </thead>\n",
              "  <tbody>\n",
              "    <tr>\n",
              "      <th>0</th>\n",
              "      <td>5.1</td>\n",
              "      <td>3.5</td>\n",
              "      <td>1.4</td>\n",
              "      <td>0.2</td>\n",
              "      <td>Iris-setosa</td>\n",
              "    </tr>\n",
              "    <tr>\n",
              "      <th>1</th>\n",
              "      <td>4.9</td>\n",
              "      <td>3.0</td>\n",
              "      <td>1.4</td>\n",
              "      <td>0.2</td>\n",
              "      <td>Iris-setosa</td>\n",
              "    </tr>\n",
              "    <tr>\n",
              "      <th>2</th>\n",
              "      <td>4.7</td>\n",
              "      <td>3.2</td>\n",
              "      <td>1.3</td>\n",
              "      <td>0.2</td>\n",
              "      <td>Iris-setosa</td>\n",
              "    </tr>\n",
              "    <tr>\n",
              "      <th>3</th>\n",
              "      <td>4.6</td>\n",
              "      <td>3.1</td>\n",
              "      <td>1.5</td>\n",
              "      <td>0.2</td>\n",
              "      <td>Iris-setosa</td>\n",
              "    </tr>\n",
              "    <tr>\n",
              "      <th>4</th>\n",
              "      <td>5.0</td>\n",
              "      <td>3.6</td>\n",
              "      <td>1.4</td>\n",
              "      <td>0.2</td>\n",
              "      <td>Iris-setosa</td>\n",
              "    </tr>\n",
              "    <tr>\n",
              "      <th>...</th>\n",
              "      <td>...</td>\n",
              "      <td>...</td>\n",
              "      <td>...</td>\n",
              "      <td>...</td>\n",
              "      <td>...</td>\n",
              "    </tr>\n",
              "    <tr>\n",
              "      <th>145</th>\n",
              "      <td>6.7</td>\n",
              "      <td>3.0</td>\n",
              "      <td>5.2</td>\n",
              "      <td>2.3</td>\n",
              "      <td>Iris-virginica</td>\n",
              "    </tr>\n",
              "    <tr>\n",
              "      <th>146</th>\n",
              "      <td>6.3</td>\n",
              "      <td>2.5</td>\n",
              "      <td>5.0</td>\n",
              "      <td>1.9</td>\n",
              "      <td>Iris-virginica</td>\n",
              "    </tr>\n",
              "    <tr>\n",
              "      <th>147</th>\n",
              "      <td>6.5</td>\n",
              "      <td>3.0</td>\n",
              "      <td>5.2</td>\n",
              "      <td>2.0</td>\n",
              "      <td>Iris-virginica</td>\n",
              "    </tr>\n",
              "    <tr>\n",
              "      <th>148</th>\n",
              "      <td>6.2</td>\n",
              "      <td>3.4</td>\n",
              "      <td>5.4</td>\n",
              "      <td>2.3</td>\n",
              "      <td>Iris-virginica</td>\n",
              "    </tr>\n",
              "    <tr>\n",
              "      <th>149</th>\n",
              "      <td>5.9</td>\n",
              "      <td>3.0</td>\n",
              "      <td>5.1</td>\n",
              "      <td>1.8</td>\n",
              "      <td>Iris-virginica</td>\n",
              "    </tr>\n",
              "  </tbody>\n",
              "</table>\n",
              "<p>150 rows × 5 columns</p>\n",
              "</div>\n",
              "      <button class=\"colab-df-convert\" onclick=\"convertToInteractive('df-ce22f5fc-667c-4a98-bf30-e6f99766f827')\"\n",
              "              title=\"Convert this dataframe to an interactive table.\"\n",
              "              style=\"display:none;\">\n",
              "        \n",
              "  <svg xmlns=\"http://www.w3.org/2000/svg\" height=\"24px\"viewBox=\"0 0 24 24\"\n",
              "       width=\"24px\">\n",
              "    <path d=\"M0 0h24v24H0V0z\" fill=\"none\"/>\n",
              "    <path d=\"M18.56 5.44l.94 2.06.94-2.06 2.06-.94-2.06-.94-.94-2.06-.94 2.06-2.06.94zm-11 1L8.5 8.5l.94-2.06 2.06-.94-2.06-.94L8.5 2.5l-.94 2.06-2.06.94zm10 10l.94 2.06.94-2.06 2.06-.94-2.06-.94-.94-2.06-.94 2.06-2.06.94z\"/><path d=\"M17.41 7.96l-1.37-1.37c-.4-.4-.92-.59-1.43-.59-.52 0-1.04.2-1.43.59L10.3 9.45l-7.72 7.72c-.78.78-.78 2.05 0 2.83L4 21.41c.39.39.9.59 1.41.59.51 0 1.02-.2 1.41-.59l7.78-7.78 2.81-2.81c.8-.78.8-2.07 0-2.86zM5.41 20L4 18.59l7.72-7.72 1.47 1.35L5.41 20z\"/>\n",
              "  </svg>\n",
              "      </button>\n",
              "      \n",
              "  <style>\n",
              "    .colab-df-container {\n",
              "      display:flex;\n",
              "      flex-wrap:wrap;\n",
              "      gap: 12px;\n",
              "    }\n",
              "\n",
              "    .colab-df-convert {\n",
              "      background-color: #E8F0FE;\n",
              "      border: none;\n",
              "      border-radius: 50%;\n",
              "      cursor: pointer;\n",
              "      display: none;\n",
              "      fill: #1967D2;\n",
              "      height: 32px;\n",
              "      padding: 0 0 0 0;\n",
              "      width: 32px;\n",
              "    }\n",
              "\n",
              "    .colab-df-convert:hover {\n",
              "      background-color: #E2EBFA;\n",
              "      box-shadow: 0px 1px 2px rgba(60, 64, 67, 0.3), 0px 1px 3px 1px rgba(60, 64, 67, 0.15);\n",
              "      fill: #174EA6;\n",
              "    }\n",
              "\n",
              "    [theme=dark] .colab-df-convert {\n",
              "      background-color: #3B4455;\n",
              "      fill: #D2E3FC;\n",
              "    }\n",
              "\n",
              "    [theme=dark] .colab-df-convert:hover {\n",
              "      background-color: #434B5C;\n",
              "      box-shadow: 0px 1px 3px 1px rgba(0, 0, 0, 0.15);\n",
              "      filter: drop-shadow(0px 1px 2px rgba(0, 0, 0, 0.3));\n",
              "      fill: #FFFFFF;\n",
              "    }\n",
              "  </style>\n",
              "\n",
              "      <script>\n",
              "        const buttonEl =\n",
              "          document.querySelector('#df-ce22f5fc-667c-4a98-bf30-e6f99766f827 button.colab-df-convert');\n",
              "        buttonEl.style.display =\n",
              "          google.colab.kernel.accessAllowed ? 'block' : 'none';\n",
              "\n",
              "        async function convertToInteractive(key) {\n",
              "          const element = document.querySelector('#df-ce22f5fc-667c-4a98-bf30-e6f99766f827');\n",
              "          const dataTable =\n",
              "            await google.colab.kernel.invokeFunction('convertToInteractive',\n",
              "                                                     [key], {});\n",
              "          if (!dataTable) return;\n",
              "\n",
              "          const docLinkHtml = 'Like what you see? Visit the ' +\n",
              "            '<a target=\"_blank\" href=https://colab.research.google.com/notebooks/data_table.ipynb>data table notebook</a>'\n",
              "            + ' to learn more about interactive tables.';\n",
              "          element.innerHTML = '';\n",
              "          dataTable['output_type'] = 'display_data';\n",
              "          await google.colab.output.renderOutput(dataTable, element);\n",
              "          const docLink = document.createElement('div');\n",
              "          docLink.innerHTML = docLinkHtml;\n",
              "          element.appendChild(docLink);\n",
              "        }\n",
              "      </script>\n",
              "    </div>\n",
              "  </div>\n",
              "  "
            ]
          },
          "metadata": {},
          "execution_count": 2
        }
      ],
      "source": [
        "data = pd.read_csv('iris.data.csv', header=None, names=['Sepal length','Sepal width','Petal length','Petal width','Species'])\n",
        "data"
      ]
    },
    {
      "cell_type": "markdown",
      "metadata": {
        "id": "bVXZvvHPVt7k"
      },
      "source": [
        "2. Show the dimension of the dataset. Display the first few rows of the dataset. NOT all values \n",
        "in your dataset. "
      ]
    },
    {
      "cell_type": "code",
      "execution_count": 3,
      "metadata": {
        "colab": {
          "base_uri": "https://localhost:8080/"
        },
        "id": "udo6LIjQVYV5",
        "outputId": "e6d93b2b-d736-4f80-f3ce-7445ecba4846"
      },
      "outputs": [
        {
          "output_type": "stream",
          "name": "stdout",
          "text": [
            "Dimension of dataset: \n"
          ]
        },
        {
          "output_type": "execute_result",
          "data": {
            "text/plain": [
              "(150, 5)"
            ]
          },
          "metadata": {},
          "execution_count": 3
        }
      ],
      "source": [
        "print(\"Dimension of dataset: \")\n",
        "data.shape"
      ]
    },
    {
      "cell_type": "code",
      "execution_count": 4,
      "metadata": {
        "colab": {
          "base_uri": "https://localhost:8080/",
          "height": 223
        },
        "id": "j0xjvb8fV_yQ",
        "outputId": "fe7ef838-7ed6-46c1-c689-ccdc94181c0e"
      },
      "outputs": [
        {
          "output_type": "stream",
          "name": "stdout",
          "text": [
            "First few rows of dataset\n"
          ]
        },
        {
          "output_type": "execute_result",
          "data": {
            "text/plain": [
              "   Sepal length  Sepal width  Petal length  Petal width      Species\n",
              "0           5.1          3.5           1.4          0.2  Iris-setosa\n",
              "1           4.9          3.0           1.4          0.2  Iris-setosa\n",
              "2           4.7          3.2           1.3          0.2  Iris-setosa\n",
              "3           4.6          3.1           1.5          0.2  Iris-setosa\n",
              "4           5.0          3.6           1.4          0.2  Iris-setosa"
            ],
            "text/html": [
              "\n",
              "  <div id=\"df-961c855a-fdbe-4a9d-bd75-131b039310e3\">\n",
              "    <div class=\"colab-df-container\">\n",
              "      <div>\n",
              "<style scoped>\n",
              "    .dataframe tbody tr th:only-of-type {\n",
              "        vertical-align: middle;\n",
              "    }\n",
              "\n",
              "    .dataframe tbody tr th {\n",
              "        vertical-align: top;\n",
              "    }\n",
              "\n",
              "    .dataframe thead th {\n",
              "        text-align: right;\n",
              "    }\n",
              "</style>\n",
              "<table border=\"1\" class=\"dataframe\">\n",
              "  <thead>\n",
              "    <tr style=\"text-align: right;\">\n",
              "      <th></th>\n",
              "      <th>Sepal length</th>\n",
              "      <th>Sepal width</th>\n",
              "      <th>Petal length</th>\n",
              "      <th>Petal width</th>\n",
              "      <th>Species</th>\n",
              "    </tr>\n",
              "  </thead>\n",
              "  <tbody>\n",
              "    <tr>\n",
              "      <th>0</th>\n",
              "      <td>5.1</td>\n",
              "      <td>3.5</td>\n",
              "      <td>1.4</td>\n",
              "      <td>0.2</td>\n",
              "      <td>Iris-setosa</td>\n",
              "    </tr>\n",
              "    <tr>\n",
              "      <th>1</th>\n",
              "      <td>4.9</td>\n",
              "      <td>3.0</td>\n",
              "      <td>1.4</td>\n",
              "      <td>0.2</td>\n",
              "      <td>Iris-setosa</td>\n",
              "    </tr>\n",
              "    <tr>\n",
              "      <th>2</th>\n",
              "      <td>4.7</td>\n",
              "      <td>3.2</td>\n",
              "      <td>1.3</td>\n",
              "      <td>0.2</td>\n",
              "      <td>Iris-setosa</td>\n",
              "    </tr>\n",
              "    <tr>\n",
              "      <th>3</th>\n",
              "      <td>4.6</td>\n",
              "      <td>3.1</td>\n",
              "      <td>1.5</td>\n",
              "      <td>0.2</td>\n",
              "      <td>Iris-setosa</td>\n",
              "    </tr>\n",
              "    <tr>\n",
              "      <th>4</th>\n",
              "      <td>5.0</td>\n",
              "      <td>3.6</td>\n",
              "      <td>1.4</td>\n",
              "      <td>0.2</td>\n",
              "      <td>Iris-setosa</td>\n",
              "    </tr>\n",
              "  </tbody>\n",
              "</table>\n",
              "</div>\n",
              "      <button class=\"colab-df-convert\" onclick=\"convertToInteractive('df-961c855a-fdbe-4a9d-bd75-131b039310e3')\"\n",
              "              title=\"Convert this dataframe to an interactive table.\"\n",
              "              style=\"display:none;\">\n",
              "        \n",
              "  <svg xmlns=\"http://www.w3.org/2000/svg\" height=\"24px\"viewBox=\"0 0 24 24\"\n",
              "       width=\"24px\">\n",
              "    <path d=\"M0 0h24v24H0V0z\" fill=\"none\"/>\n",
              "    <path d=\"M18.56 5.44l.94 2.06.94-2.06 2.06-.94-2.06-.94-.94-2.06-.94 2.06-2.06.94zm-11 1L8.5 8.5l.94-2.06 2.06-.94-2.06-.94L8.5 2.5l-.94 2.06-2.06.94zm10 10l.94 2.06.94-2.06 2.06-.94-2.06-.94-.94-2.06-.94 2.06-2.06.94z\"/><path d=\"M17.41 7.96l-1.37-1.37c-.4-.4-.92-.59-1.43-.59-.52 0-1.04.2-1.43.59L10.3 9.45l-7.72 7.72c-.78.78-.78 2.05 0 2.83L4 21.41c.39.39.9.59 1.41.59.51 0 1.02-.2 1.41-.59l7.78-7.78 2.81-2.81c.8-.78.8-2.07 0-2.86zM5.41 20L4 18.59l7.72-7.72 1.47 1.35L5.41 20z\"/>\n",
              "  </svg>\n",
              "      </button>\n",
              "      \n",
              "  <style>\n",
              "    .colab-df-container {\n",
              "      display:flex;\n",
              "      flex-wrap:wrap;\n",
              "      gap: 12px;\n",
              "    }\n",
              "\n",
              "    .colab-df-convert {\n",
              "      background-color: #E8F0FE;\n",
              "      border: none;\n",
              "      border-radius: 50%;\n",
              "      cursor: pointer;\n",
              "      display: none;\n",
              "      fill: #1967D2;\n",
              "      height: 32px;\n",
              "      padding: 0 0 0 0;\n",
              "      width: 32px;\n",
              "    }\n",
              "\n",
              "    .colab-df-convert:hover {\n",
              "      background-color: #E2EBFA;\n",
              "      box-shadow: 0px 1px 2px rgba(60, 64, 67, 0.3), 0px 1px 3px 1px rgba(60, 64, 67, 0.15);\n",
              "      fill: #174EA6;\n",
              "    }\n",
              "\n",
              "    [theme=dark] .colab-df-convert {\n",
              "      background-color: #3B4455;\n",
              "      fill: #D2E3FC;\n",
              "    }\n",
              "\n",
              "    [theme=dark] .colab-df-convert:hover {\n",
              "      background-color: #434B5C;\n",
              "      box-shadow: 0px 1px 3px 1px rgba(0, 0, 0, 0.15);\n",
              "      filter: drop-shadow(0px 1px 2px rgba(0, 0, 0, 0.3));\n",
              "      fill: #FFFFFF;\n",
              "    }\n",
              "  </style>\n",
              "\n",
              "      <script>\n",
              "        const buttonEl =\n",
              "          document.querySelector('#df-961c855a-fdbe-4a9d-bd75-131b039310e3 button.colab-df-convert');\n",
              "        buttonEl.style.display =\n",
              "          google.colab.kernel.accessAllowed ? 'block' : 'none';\n",
              "\n",
              "        async function convertToInteractive(key) {\n",
              "          const element = document.querySelector('#df-961c855a-fdbe-4a9d-bd75-131b039310e3');\n",
              "          const dataTable =\n",
              "            await google.colab.kernel.invokeFunction('convertToInteractive',\n",
              "                                                     [key], {});\n",
              "          if (!dataTable) return;\n",
              "\n",
              "          const docLinkHtml = 'Like what you see? Visit the ' +\n",
              "            '<a target=\"_blank\" href=https://colab.research.google.com/notebooks/data_table.ipynb>data table notebook</a>'\n",
              "            + ' to learn more about interactive tables.';\n",
              "          element.innerHTML = '';\n",
              "          dataTable['output_type'] = 'display_data';\n",
              "          await google.colab.output.renderOutput(dataTable, element);\n",
              "          const docLink = document.createElement('div');\n",
              "          docLink.innerHTML = docLinkHtml;\n",
              "          element.appendChild(docLink);\n",
              "        }\n",
              "      </script>\n",
              "    </div>\n",
              "  </div>\n",
              "  "
            ]
          },
          "metadata": {},
          "execution_count": 4
        }
      ],
      "source": [
        "print(\"First few rows of dataset\")\n",
        "data.head()"
      ]
    },
    {
      "cell_type": "markdown",
      "metadata": {
        "id": "0jSNKXrLWPRJ"
      },
      "source": [
        "3. There are four random variables in this dataset namely Sepal.Length, Sepal.Width, \n",
        "Petal.Length and Petal.Width. Calculate the basic statistics (Minimum, Median, Mean and \n",
        "Maximum) on each of the data frame's columns with summary. "
      ]
    },
    {
      "cell_type": "code",
      "source": [
        "data.agg(\n",
        "    {\n",
        "        \"Sepal length\": [\"min\", \"max\", \"median\", \"mean\"],\n",
        "        \"Sepal width\": [\"min\", \"max\", \"median\", \"mean\"],\n",
        "        \"Petal length\": [\"min\", \"max\", \"median\", \"mean\"],\n",
        "        \"Petal width\": [\"min\", \"max\", \"median\", \"mean\"],\n",
        "    }\n",
        ")"
      ],
      "metadata": {
        "colab": {
          "base_uri": "https://localhost:8080/",
          "height": 175
        },
        "id": "BIadkd3AkSna",
        "outputId": "57988623-5a9f-4de1-fcd0-5105ce3f1c92"
      },
      "execution_count": 5,
      "outputs": [
        {
          "output_type": "execute_result",
          "data": {
            "text/plain": [
              "        Sepal length  Sepal width  Petal length  Petal width\n",
              "min         4.300000        2.000      1.000000     0.100000\n",
              "max         7.900000        4.400      6.900000     2.500000\n",
              "median      5.800000        3.000      4.350000     1.300000\n",
              "mean        5.843333        3.054      3.758667     1.198667"
            ],
            "text/html": [
              "\n",
              "  <div id=\"df-1a52a285-72d3-4af2-ae5e-f5ad2bbbf9ac\">\n",
              "    <div class=\"colab-df-container\">\n",
              "      <div>\n",
              "<style scoped>\n",
              "    .dataframe tbody tr th:only-of-type {\n",
              "        vertical-align: middle;\n",
              "    }\n",
              "\n",
              "    .dataframe tbody tr th {\n",
              "        vertical-align: top;\n",
              "    }\n",
              "\n",
              "    .dataframe thead th {\n",
              "        text-align: right;\n",
              "    }\n",
              "</style>\n",
              "<table border=\"1\" class=\"dataframe\">\n",
              "  <thead>\n",
              "    <tr style=\"text-align: right;\">\n",
              "      <th></th>\n",
              "      <th>Sepal length</th>\n",
              "      <th>Sepal width</th>\n",
              "      <th>Petal length</th>\n",
              "      <th>Petal width</th>\n",
              "    </tr>\n",
              "  </thead>\n",
              "  <tbody>\n",
              "    <tr>\n",
              "      <th>min</th>\n",
              "      <td>4.300000</td>\n",
              "      <td>2.000</td>\n",
              "      <td>1.000000</td>\n",
              "      <td>0.100000</td>\n",
              "    </tr>\n",
              "    <tr>\n",
              "      <th>max</th>\n",
              "      <td>7.900000</td>\n",
              "      <td>4.400</td>\n",
              "      <td>6.900000</td>\n",
              "      <td>2.500000</td>\n",
              "    </tr>\n",
              "    <tr>\n",
              "      <th>median</th>\n",
              "      <td>5.800000</td>\n",
              "      <td>3.000</td>\n",
              "      <td>4.350000</td>\n",
              "      <td>1.300000</td>\n",
              "    </tr>\n",
              "    <tr>\n",
              "      <th>mean</th>\n",
              "      <td>5.843333</td>\n",
              "      <td>3.054</td>\n",
              "      <td>3.758667</td>\n",
              "      <td>1.198667</td>\n",
              "    </tr>\n",
              "  </tbody>\n",
              "</table>\n",
              "</div>\n",
              "      <button class=\"colab-df-convert\" onclick=\"convertToInteractive('df-1a52a285-72d3-4af2-ae5e-f5ad2bbbf9ac')\"\n",
              "              title=\"Convert this dataframe to an interactive table.\"\n",
              "              style=\"display:none;\">\n",
              "        \n",
              "  <svg xmlns=\"http://www.w3.org/2000/svg\" height=\"24px\"viewBox=\"0 0 24 24\"\n",
              "       width=\"24px\">\n",
              "    <path d=\"M0 0h24v24H0V0z\" fill=\"none\"/>\n",
              "    <path d=\"M18.56 5.44l.94 2.06.94-2.06 2.06-.94-2.06-.94-.94-2.06-.94 2.06-2.06.94zm-11 1L8.5 8.5l.94-2.06 2.06-.94-2.06-.94L8.5 2.5l-.94 2.06-2.06.94zm10 10l.94 2.06.94-2.06 2.06-.94-2.06-.94-.94-2.06-.94 2.06-2.06.94z\"/><path d=\"M17.41 7.96l-1.37-1.37c-.4-.4-.92-.59-1.43-.59-.52 0-1.04.2-1.43.59L10.3 9.45l-7.72 7.72c-.78.78-.78 2.05 0 2.83L4 21.41c.39.39.9.59 1.41.59.51 0 1.02-.2 1.41-.59l7.78-7.78 2.81-2.81c.8-.78.8-2.07 0-2.86zM5.41 20L4 18.59l7.72-7.72 1.47 1.35L5.41 20z\"/>\n",
              "  </svg>\n",
              "      </button>\n",
              "      \n",
              "  <style>\n",
              "    .colab-df-container {\n",
              "      display:flex;\n",
              "      flex-wrap:wrap;\n",
              "      gap: 12px;\n",
              "    }\n",
              "\n",
              "    .colab-df-convert {\n",
              "      background-color: #E8F0FE;\n",
              "      border: none;\n",
              "      border-radius: 50%;\n",
              "      cursor: pointer;\n",
              "      display: none;\n",
              "      fill: #1967D2;\n",
              "      height: 32px;\n",
              "      padding: 0 0 0 0;\n",
              "      width: 32px;\n",
              "    }\n",
              "\n",
              "    .colab-df-convert:hover {\n",
              "      background-color: #E2EBFA;\n",
              "      box-shadow: 0px 1px 2px rgba(60, 64, 67, 0.3), 0px 1px 3px 1px rgba(60, 64, 67, 0.15);\n",
              "      fill: #174EA6;\n",
              "    }\n",
              "\n",
              "    [theme=dark] .colab-df-convert {\n",
              "      background-color: #3B4455;\n",
              "      fill: #D2E3FC;\n",
              "    }\n",
              "\n",
              "    [theme=dark] .colab-df-convert:hover {\n",
              "      background-color: #434B5C;\n",
              "      box-shadow: 0px 1px 3px 1px rgba(0, 0, 0, 0.15);\n",
              "      filter: drop-shadow(0px 1px 2px rgba(0, 0, 0, 0.3));\n",
              "      fill: #FFFFFF;\n",
              "    }\n",
              "  </style>\n",
              "\n",
              "      <script>\n",
              "        const buttonEl =\n",
              "          document.querySelector('#df-1a52a285-72d3-4af2-ae5e-f5ad2bbbf9ac button.colab-df-convert');\n",
              "        buttonEl.style.display =\n",
              "          google.colab.kernel.accessAllowed ? 'block' : 'none';\n",
              "\n",
              "        async function convertToInteractive(key) {\n",
              "          const element = document.querySelector('#df-1a52a285-72d3-4af2-ae5e-f5ad2bbbf9ac');\n",
              "          const dataTable =\n",
              "            await google.colab.kernel.invokeFunction('convertToInteractive',\n",
              "                                                     [key], {});\n",
              "          if (!dataTable) return;\n",
              "\n",
              "          const docLinkHtml = 'Like what you see? Visit the ' +\n",
              "            '<a target=\"_blank\" href=https://colab.research.google.com/notebooks/data_table.ipynb>data table notebook</a>'\n",
              "            + ' to learn more about interactive tables.';\n",
              "          element.innerHTML = '';\n",
              "          dataTable['output_type'] = 'display_data';\n",
              "          await google.colab.output.renderOutput(dataTable, element);\n",
              "          const docLink = document.createElement('div');\n",
              "          docLink.innerHTML = docLinkHtml;\n",
              "          element.appendChild(docLink);\n",
              "        }\n",
              "      </script>\n",
              "    </div>\n",
              "  </div>\n",
              "  "
            ]
          },
          "metadata": {},
          "execution_count": 5
        }
      ]
    },
    {
      "cell_type": "code",
      "execution_count": 6,
      "metadata": {
        "colab": {
          "base_uri": "https://localhost:8080/",
          "height": 300
        },
        "id": "_SzwJbftWG_B",
        "outputId": "94c34cb4-0be2-4820-be68-20d8bccf72af"
      },
      "outputs": [
        {
          "output_type": "execute_result",
          "data": {
            "text/plain": [
              "       Sepal length  Sepal width  Petal length  Petal width\n",
              "count    150.000000   150.000000    150.000000   150.000000\n",
              "mean       5.843333     3.054000      3.758667     1.198667\n",
              "std        0.828066     0.433594      1.764420     0.763161\n",
              "min        4.300000     2.000000      1.000000     0.100000\n",
              "25%        5.100000     2.800000      1.600000     0.300000\n",
              "50%        5.800000     3.000000      4.350000     1.300000\n",
              "75%        6.400000     3.300000      5.100000     1.800000\n",
              "max        7.900000     4.400000      6.900000     2.500000"
            ],
            "text/html": [
              "\n",
              "  <div id=\"df-3b775695-5b2d-4d31-922b-c3679514b19a\">\n",
              "    <div class=\"colab-df-container\">\n",
              "      <div>\n",
              "<style scoped>\n",
              "    .dataframe tbody tr th:only-of-type {\n",
              "        vertical-align: middle;\n",
              "    }\n",
              "\n",
              "    .dataframe tbody tr th {\n",
              "        vertical-align: top;\n",
              "    }\n",
              "\n",
              "    .dataframe thead th {\n",
              "        text-align: right;\n",
              "    }\n",
              "</style>\n",
              "<table border=\"1\" class=\"dataframe\">\n",
              "  <thead>\n",
              "    <tr style=\"text-align: right;\">\n",
              "      <th></th>\n",
              "      <th>Sepal length</th>\n",
              "      <th>Sepal width</th>\n",
              "      <th>Petal length</th>\n",
              "      <th>Petal width</th>\n",
              "    </tr>\n",
              "  </thead>\n",
              "  <tbody>\n",
              "    <tr>\n",
              "      <th>count</th>\n",
              "      <td>150.000000</td>\n",
              "      <td>150.000000</td>\n",
              "      <td>150.000000</td>\n",
              "      <td>150.000000</td>\n",
              "    </tr>\n",
              "    <tr>\n",
              "      <th>mean</th>\n",
              "      <td>5.843333</td>\n",
              "      <td>3.054000</td>\n",
              "      <td>3.758667</td>\n",
              "      <td>1.198667</td>\n",
              "    </tr>\n",
              "    <tr>\n",
              "      <th>std</th>\n",
              "      <td>0.828066</td>\n",
              "      <td>0.433594</td>\n",
              "      <td>1.764420</td>\n",
              "      <td>0.763161</td>\n",
              "    </tr>\n",
              "    <tr>\n",
              "      <th>min</th>\n",
              "      <td>4.300000</td>\n",
              "      <td>2.000000</td>\n",
              "      <td>1.000000</td>\n",
              "      <td>0.100000</td>\n",
              "    </tr>\n",
              "    <tr>\n",
              "      <th>25%</th>\n",
              "      <td>5.100000</td>\n",
              "      <td>2.800000</td>\n",
              "      <td>1.600000</td>\n",
              "      <td>0.300000</td>\n",
              "    </tr>\n",
              "    <tr>\n",
              "      <th>50%</th>\n",
              "      <td>5.800000</td>\n",
              "      <td>3.000000</td>\n",
              "      <td>4.350000</td>\n",
              "      <td>1.300000</td>\n",
              "    </tr>\n",
              "    <tr>\n",
              "      <th>75%</th>\n",
              "      <td>6.400000</td>\n",
              "      <td>3.300000</td>\n",
              "      <td>5.100000</td>\n",
              "      <td>1.800000</td>\n",
              "    </tr>\n",
              "    <tr>\n",
              "      <th>max</th>\n",
              "      <td>7.900000</td>\n",
              "      <td>4.400000</td>\n",
              "      <td>6.900000</td>\n",
              "      <td>2.500000</td>\n",
              "    </tr>\n",
              "  </tbody>\n",
              "</table>\n",
              "</div>\n",
              "      <button class=\"colab-df-convert\" onclick=\"convertToInteractive('df-3b775695-5b2d-4d31-922b-c3679514b19a')\"\n",
              "              title=\"Convert this dataframe to an interactive table.\"\n",
              "              style=\"display:none;\">\n",
              "        \n",
              "  <svg xmlns=\"http://www.w3.org/2000/svg\" height=\"24px\"viewBox=\"0 0 24 24\"\n",
              "       width=\"24px\">\n",
              "    <path d=\"M0 0h24v24H0V0z\" fill=\"none\"/>\n",
              "    <path d=\"M18.56 5.44l.94 2.06.94-2.06 2.06-.94-2.06-.94-.94-2.06-.94 2.06-2.06.94zm-11 1L8.5 8.5l.94-2.06 2.06-.94-2.06-.94L8.5 2.5l-.94 2.06-2.06.94zm10 10l.94 2.06.94-2.06 2.06-.94-2.06-.94-.94-2.06-.94 2.06-2.06.94z\"/><path d=\"M17.41 7.96l-1.37-1.37c-.4-.4-.92-.59-1.43-.59-.52 0-1.04.2-1.43.59L10.3 9.45l-7.72 7.72c-.78.78-.78 2.05 0 2.83L4 21.41c.39.39.9.59 1.41.59.51 0 1.02-.2 1.41-.59l7.78-7.78 2.81-2.81c.8-.78.8-2.07 0-2.86zM5.41 20L4 18.59l7.72-7.72 1.47 1.35L5.41 20z\"/>\n",
              "  </svg>\n",
              "      </button>\n",
              "      \n",
              "  <style>\n",
              "    .colab-df-container {\n",
              "      display:flex;\n",
              "      flex-wrap:wrap;\n",
              "      gap: 12px;\n",
              "    }\n",
              "\n",
              "    .colab-df-convert {\n",
              "      background-color: #E8F0FE;\n",
              "      border: none;\n",
              "      border-radius: 50%;\n",
              "      cursor: pointer;\n",
              "      display: none;\n",
              "      fill: #1967D2;\n",
              "      height: 32px;\n",
              "      padding: 0 0 0 0;\n",
              "      width: 32px;\n",
              "    }\n",
              "\n",
              "    .colab-df-convert:hover {\n",
              "      background-color: #E2EBFA;\n",
              "      box-shadow: 0px 1px 2px rgba(60, 64, 67, 0.3), 0px 1px 3px 1px rgba(60, 64, 67, 0.15);\n",
              "      fill: #174EA6;\n",
              "    }\n",
              "\n",
              "    [theme=dark] .colab-df-convert {\n",
              "      background-color: #3B4455;\n",
              "      fill: #D2E3FC;\n",
              "    }\n",
              "\n",
              "    [theme=dark] .colab-df-convert:hover {\n",
              "      background-color: #434B5C;\n",
              "      box-shadow: 0px 1px 3px 1px rgba(0, 0, 0, 0.15);\n",
              "      filter: drop-shadow(0px 1px 2px rgba(0, 0, 0, 0.3));\n",
              "      fill: #FFFFFF;\n",
              "    }\n",
              "  </style>\n",
              "\n",
              "      <script>\n",
              "        const buttonEl =\n",
              "          document.querySelector('#df-3b775695-5b2d-4d31-922b-c3679514b19a button.colab-df-convert');\n",
              "        buttonEl.style.display =\n",
              "          google.colab.kernel.accessAllowed ? 'block' : 'none';\n",
              "\n",
              "        async function convertToInteractive(key) {\n",
              "          const element = document.querySelector('#df-3b775695-5b2d-4d31-922b-c3679514b19a');\n",
              "          const dataTable =\n",
              "            await google.colab.kernel.invokeFunction('convertToInteractive',\n",
              "                                                     [key], {});\n",
              "          if (!dataTable) return;\n",
              "\n",
              "          const docLinkHtml = 'Like what you see? Visit the ' +\n",
              "            '<a target=\"_blank\" href=https://colab.research.google.com/notebooks/data_table.ipynb>data table notebook</a>'\n",
              "            + ' to learn more about interactive tables.';\n",
              "          element.innerHTML = '';\n",
              "          dataTable['output_type'] = 'display_data';\n",
              "          await google.colab.output.renderOutput(dataTable, element);\n",
              "          const docLink = document.createElement('div');\n",
              "          docLink.innerHTML = docLinkHtml;\n",
              "          element.appendChild(docLink);\n",
              "        }\n",
              "      </script>\n",
              "    </div>\n",
              "  </div>\n",
              "  "
            ]
          },
          "metadata": {},
          "execution_count": 6
        }
      ],
      "source": [
        "data.describe()"
      ]
    },
    {
      "cell_type": "markdown",
      "metadata": {
        "id": "yHmwmQPFW04Q"
      },
      "source": [
        "4. Generate 500 random numbers (within the range -3 to +3) following the Standard Normal \n",
        "distribution using random function of Python library. Then and generate the scatter plot \n",
        "and histogram of those 500 random numbers as shown in the following figure. "
      ]
    },
    {
      "cell_type": "code",
      "execution_count": 7,
      "metadata": {
        "id": "uqe4cjaWYfEW"
      },
      "outputs": [],
      "source": [
        "import matplotlib.pyplot as plt\n",
        "import scipy.stats as st\n",
        "from statsmodels.stats.weightstats import ztest\n",
        "from math import sqrt\n",
        "from sklearn.linear_model import LinearRegression\n",
        "import seaborn as sns"
      ]
    },
    {
      "cell_type": "code",
      "execution_count": 31,
      "metadata": {
        "colab": {
          "base_uri": "https://localhost:8080/",
          "height": 388
        },
        "id": "g4EXzMK4WoFs",
        "outputId": "a3b56fd0-2121-472b-db1a-8a0f20703905"
      },
      "outputs": [
        {
          "output_type": "display_data",
          "data": {
            "text/plain": [
              "<Figure size 432x432 with 1 Axes>"
            ],
            "image/png": "[encoded data removed]"
          },
          "metadata": {
            "needs_background": "light"
          }
        }
      ],
      "source": [
        "#random numbers between -3 and 3, therefore three standard deviations is 3, hence std = 3. \n",
        "#Since 99.7% of data for a standard normal deviation will lie in this range.\n",
        "random_numbers = np.random.normal(0, 1, 1000)\n",
        "\n",
        "numbers_inrange = []\n",
        "\n",
        "#selecting 500 numbers in range -3 to 3 from the generated 600.\n",
        "for rn in random_numbers:\n",
        "    if len(numbers_inrange) == 500: \n",
        "        break\n",
        "    if rn>=-3 and rn<=3:\n",
        "        numbers_inrange.append(rn)\n",
        "\n",
        "#scatter plot\n",
        "plt.figure(figsize=(6, 6))\n",
        "plt.xlabel('index')\n",
        "plt.ylabel('number')\n",
        "plt.scatter(range(500),numbers_inrange,color = 'green')\n",
        "plt.show()\n"
      ]
    },
    {
      "cell_type": "code",
      "execution_count": 32,
      "metadata": {
        "colab": {
          "base_uri": "https://localhost:8080/",
          "height": 265
        },
        "id": "K84TW_swZWCZ",
        "outputId": "e07b4d6c-9280-4667-cfbb-9b79b39f0732"
      },
      "outputs": [
        {
          "output_type": "display_data",
          "data": {
            "text/plain": [
              "<Figure size 432x288 with 1 Axes>"
            ],
            "image/png": "[encoded data removed]"
          },
          "metadata": {
            "needs_background": "light"
          }
        }
      ],
      "source": [
        "#histogram\n",
        "plt.hist(numbers_inrange, bins=25, density=False, color = 'green')\n",
        "plt.show()"
      ]
    },
    {
      "cell_type": "markdown",
      "metadata": {
        "id": "yIGpY153Zrfk"
      },
      "source": [
        "5. Scatterplot matrices are very good visualization tools and may help identify correlations or \n",
        "lack of it. Histograms (which should be calculated per attribute) are also very useful. \n",
        "Generate scatter plots for two RVs petal width and petal length, and for two RVs sepal \n",
        "width and sepal length. Then generate histogram plots for all four RVs in the IRIS \n",
        "dataset. Use different colors for the points from different classes. "
      ]
    },
    {
      "cell_type": "code",
      "execution_count": 33,
      "metadata": {
        "colab": {
          "base_uri": "https://localhost:8080/",
          "height": 279
        },
        "id": "UF2u9cOMaeD8",
        "outputId": "269d80fe-88e8-4f89-dbe0-e79e647a3b23"
      },
      "outputs": [
        {
          "output_type": "display_data",
          "data": {
            "text/plain": [
              "<Figure size 432x288 with 1 Axes>"
            ],
            "image/png": "[encoded data removed]"
          },
          "metadata": {
            "needs_background": "light"
          }
        }
      ],
      "source": [
        "#scatter plot of petal width vs petal length\n",
        "colors = {'Iris-setosa':'green', 'Iris-versicolor':'blue', 'Iris-virginica':'red'}\n",
        "plt.scatter(data['Petal width'], data['Petal length'], s=10, c=data['Species'].map(colors))\n",
        "plt.xlabel('Petal width')\n",
        "plt.ylabel('Petal length')\n",
        "plt.show()"
      ]
    },
    {
      "cell_type": "code",
      "execution_count": 34,
      "metadata": {
        "colab": {
          "base_uri": "https://localhost:8080/",
          "height": 279
        },
        "id": "d-SZRwmRaqHU",
        "outputId": "01a8973d-05d8-4303-cbad-8b14d8126df9"
      },
      "outputs": [
        {
          "output_type": "display_data",
          "data": {
            "text/plain": [
              "<Figure size 432x288 with 1 Axes>"
            ],
            "image/png": "[encoded data removed]"
          },
          "metadata": {
            "needs_background": "light"
          }
        }
      ],
      "source": [
        "#scatter plot of sepal width vs sepal length\n",
        "colors = {'Iris-setosa':'green', 'Iris-versicolor':'blue', 'Iris-virginica':'red'}\n",
        "plt.scatter(data['Sepal width'], data['Sepal length'], s=10, c=data['Species'].map(colors))\n",
        "plt.xlabel('Sepal width')\n",
        "plt.ylabel('Sepal length')\n",
        "plt.show()"
      ]
    },
    {
      "cell_type": "code",
      "execution_count": 35,
      "metadata": {
        "colab": {
          "base_uri": "https://localhost:8080/",
          "height": 279
        },
        "id": "S6T52Xl5Zqck",
        "outputId": "6692c07d-cb7e-450f-d8a6-6aed96044c0c"
      },
      "outputs": [
        {
          "output_type": "display_data",
          "data": {
            "text/plain": [
              "<Figure size 432x288 with 1 Axes>"
            ],
            "image/png": "[encoded data removed]"
          },
          "metadata": {
            "needs_background": "light"
          }
        }
      ],
      "source": [
        "#histogram plot of petal length\n",
        "data.pivot(columns='Species', values='Petal length').plot.hist(bins = 25)\n",
        "plt.xlabel('Petal length')\n",
        "plt.show()"
      ]
    },
    {
      "cell_type": "code",
      "execution_count": 13,
      "metadata": {
        "colab": {
          "base_uri": "https://localhost:8080/",
          "height": 279
        },
        "id": "PmdAdslkZh1Q",
        "outputId": "d8832975-5774-4061-c530-0e9ec40b4fd0"
      },
      "outputs": [
        {
          "output_type": "display_data",
          "data": {
            "text/plain": [
              "<Figure size 432x288 with 1 Axes>"
            ],
            "image/png": "[encoded data removed]"
          },
          "metadata": {
            "needs_background": "light"
          }
        }
      ],
      "source": [
        "#histogram plot of petal width \n",
        "data.pivot(columns='Species', values='Petal width').plot.hist(bins = 25)\n",
        "plt.xlabel('Petal width')\n",
        "plt.show()"
      ]
    },
    {
      "cell_type": "code",
      "execution_count": 14,
      "metadata": {
        "colab": {
          "base_uri": "https://localhost:8080/",
          "height": 279
        },
        "id": "d9m3-oe7Z_bO",
        "outputId": "8831db74-b985-463f-ff22-48bd4f2c0ede"
      },
      "outputs": [
        {
          "output_type": "display_data",
          "data": {
            "text/plain": [
              "<Figure size 432x288 with 1 Axes>"
            ],
            "image/png": "[encoded data removed]"
          },
          "metadata": {
            "needs_background": "light"
          }
        }
      ],
      "source": [
        "#histogram plot of sepal length\n",
        "data.pivot(columns='Species', values='Sepal length').plot.hist(bins = 25)\n",
        "plt.xlabel('Sepal length')\n",
        "plt.show()"
      ]
    },
    {
      "cell_type": "code",
      "execution_count": 15,
      "metadata": {
        "colab": {
          "base_uri": "https://localhost:8080/",
          "height": 279
        },
        "id": "XaknYrgYaReP",
        "outputId": "96293f63-f61e-4366-e068-4a16ca1c630e"
      },
      "outputs": [
        {
          "output_type": "display_data",
          "data": {
            "text/plain": [
              "<Figure size 432x288 with 1 Axes>"
            ],
            "image/png": "[encoded data removed]"
          },
          "metadata": {
            "needs_background": "light"
          }
        }
      ],
      "source": [
        "#histogram plot of sepal width\n",
        "data.pivot(columns='Species', values='Sepal width').plot.hist(bins = 25)\n",
        "plt.xlabel('Sepal width')\n",
        "plt.show()"
      ]
    },
    {
      "cell_type": "markdown",
      "metadata": {
        "id": "CY7eDjBsbFiX"
      },
      "source": [
        "6. Numbers can tell a lot, but sometimes it is better to see the statistics with boxplots. Generate \n",
        "the boxplots for all four RVs in the IRIS dataset"
      ]
    },
    {
      "cell_type": "code",
      "execution_count": 16,
      "metadata": {
        "colab": {
          "base_uri": "https://localhost:8080/",
          "height": 265
        },
        "id": "WZblgMzraVFp",
        "outputId": "ffa53308-3779-4747-cbf4-3cd8ee77709b"
      },
      "outputs": [
        {
          "output_type": "display_data",
          "data": {
            "text/plain": [
              "<Figure size 432x288 with 1 Axes>"
            ],
            "image/png": "[encoded data removed]"
          },
          "metadata": {
            "needs_background": "light"
          }
        }
      ],
      "source": [
        "#box plot for petal length\n",
        "plt.boxplot(data['Petal length'])\n",
        "plt.show()"
      ]
    },
    {
      "cell_type": "code",
      "execution_count": 17,
      "metadata": {
        "colab": {
          "base_uri": "https://localhost:8080/",
          "height": 265
        },
        "id": "A4Fd0pN_bId7",
        "outputId": "ac9a7f16-09a2-461f-dcd9-19ab8d92995d"
      },
      "outputs": [
        {
          "output_type": "display_data",
          "data": {
            "text/plain": [
              "<Figure size 432x288 with 1 Axes>"
            ],
            "image/png": "[encoded data removed]"
          },
          "metadata": {
            "needs_background": "light"
          }
        }
      ],
      "source": [
        "#box plot for petal width\n",
        "plt.boxplot(data['Petal width'])\n",
        "plt.show()"
      ]
    },
    {
      "cell_type": "code",
      "execution_count": 18,
      "metadata": {
        "colab": {
          "base_uri": "https://localhost:8080/",
          "height": 265
        },
        "id": "FlPqpfgxbLgZ",
        "outputId": "60c31233-b037-4ec0-f663-e97a02cca30f"
      },
      "outputs": [
        {
          "output_type": "display_data",
          "data": {
            "text/plain": [
              "<Figure size 432x288 with 1 Axes>"
            ],
            "image/png": "[encoded data removed]"
          },
          "metadata": {
            "needs_background": "light"
          }
        }
      ],
      "source": [
        "#box plot for sepal length\n",
        "plt.boxplot(data['Sepal length'])\n",
        "plt.show()"
      ]
    },
    {
      "cell_type": "code",
      "execution_count": 19,
      "metadata": {
        "colab": {
          "base_uri": "https://localhost:8080/",
          "height": 268
        },
        "id": "Kte7XeyfbPi_",
        "outputId": "942e5eb5-d75f-4907-d846-662d7c467d3e"
      },
      "outputs": [
        {
          "output_type": "display_data",
          "data": {
            "text/plain": [
              "<Figure size 432x288 with 1 Axes>"
            ],
            "image/png": "[encoded data removed]"
          },
          "metadata": {
            "needs_background": "light"
          }
        }
      ],
      "source": [
        "#box plot for sepal width\n",
        "plt.boxplot(data['Sepal width'])\n",
        "plt.show()"
      ]
    },
    {
      "cell_type": "markdown",
      "metadata": {
        "id": "dvDv0zyjcHKe"
      },
      "source": [
        "7. Write your code for computing the 95% confidence interval of sepal length of setosa from \n",
        "the IRIS dataset. "
      ]
    },
    {
      "cell_type": "code",
      "execution_count": 20,
      "metadata": {
        "colab": {
          "base_uri": "https://localhost:8080/"
        },
        "id": "NMcUZi1Wbg1m",
        "outputId": "5791f81f-b4d2-4d4f-96df-e7c3dce12b12"
      },
      "outputs": [
        {
          "output_type": "stream",
          "name": "stdout",
          "text": [
            "95% confidence interval of sepal length of setosa from the IRIS dataset is: (4.905823539430869, 5.106176460569132)\n"
          ]
        }
      ],
      "source": [
        "dataSetosa =  data[data['Species'] == 'Iris-setosa']\n",
        "\n",
        "#calculating 95% confidence interval\n",
        "ci_95 = st.t.interval(alpha=0.95, df=len(dataSetosa['Sepal length'])-1,\n",
        "              loc=np.mean(dataSetosa['Sepal length']),\n",
        "              scale=st.sem(dataSetosa['Sepal length']))\n",
        "print(\"95% confidence interval of sepal length of setosa from the IRIS dataset is:\", ci_95)"
      ]
    },
    {
      "cell_type": "markdown",
      "metadata": {
        "id": "-oD4CKddchkM"
      },
      "source": [
        "8. Write your code for computing the 99% confidence interval of petal width of virginica from \n",
        "the IRIS dataset."
      ]
    },
    {
      "cell_type": "code",
      "execution_count": 21,
      "metadata": {
        "colab": {
          "base_uri": "https://localhost:8080/"
        },
        "id": "68tTqZrIcS2f",
        "outputId": "79472d34-e96d-46e4-91f8-7cd837d2bb07"
      },
      "outputs": [
        {
          "output_type": "stream",
          "name": "stdout",
          "text": [
            "99% confidence interval of petal width of virginica from the IRIS dataset is: (1.9219069580090313, 2.1300930419909694)\n"
          ]
        }
      ],
      "source": [
        "dataVirginica =  data[data['Species'] == 'Iris-virginica']\n",
        "\n",
        "#calculating 99% confidence interval\n",
        "ci_99 = st.t.interval(alpha=0.99, df=len(dataVirginica['Petal width'])-1,\n",
        "              loc=np.mean(dataVirginica['Petal width']),\n",
        "              scale=st.sem(dataVirginica['Petal width']))\n",
        "print(\"99% confidence interval of petal width of virginica from the IRIS dataset is:\", ci_99)"
      ]
    },
    {
      "cell_type": "code",
      "execution_count": 22,
      "metadata": {
        "id": "-_hNUCO0dIYT"
      },
      "outputs": [],
      "source": [
        "#t-test\n",
        "def check_null_hypothesis(d1, d2, alpha):\n",
        "    #means\n",
        "    x1 = np.mean(d1)\n",
        "    x2 = np.mean(d2)\n",
        "    #standard deviations\n",
        "    std1 = np.std(d1)\n",
        "    std2 = np.std(d2)\n",
        "    #lengths\n",
        "    len1 = len(d1)\n",
        "    len2 = len(d2)\n",
        "    \n",
        "    degree = min(len1-1,len2-1)\n",
        "    \n",
        "    t = (x1 - x2)/(sqrt((std1*std1)/len1 + (std2*std2)/len2))\n",
        "    \n",
        "    upper_bound = st.t.ppf(0.025, df=degree)\n",
        "    lower_bound = st.t.ppf(1 - 0.025, df=degree)\n",
        "    \n",
        "    if t < 0:\n",
        "        return t > upper_bound\n",
        "    else:\n",
        "        return t < lower_bound"
      ]
    },
    {
      "cell_type": "code",
      "execution_count": 23,
      "metadata": {
        "id": "jHcsrfbEdQ95"
      },
      "outputs": [],
      "source": [
        "dataVirginica =  data[data['Species'] == 'Iris-virginica']\n",
        "dataVersicolor = data[data['Species'] == 'Iris-versicolor']\n",
        "dataSetosa = data[data['Species'] == 'Iris-setosa'] "
      ]
    },
    {
      "cell_type": "markdown",
      "metadata": {
        "id": "BtU3Llc8c2Da"
      },
      "source": [
        "9. Write your code to use hypothesis testing to investigate whether the means of sepal width \n",
        "between versicolor and virginica are different. Interpret your results"
      ]
    },
    {
      "cell_type": "code",
      "execution_count": 24,
      "metadata": {
        "colab": {
          "base_uri": "https://localhost:8080/"
        },
        "id": "BTWLRszQcv6d",
        "outputId": "8a652de0-fc26-4533-f8c2-f3fdd3ff3d1a"
      },
      "outputs": [
        {
          "output_type": "stream",
          "name": "stdout",
          "text": [
            "Ttest_indResult(statistic=3.2057607502218186, pvalue=0.001819483482104968)\n",
            "Significance Level: 0.05\n",
            "Is Null hypothesis true? : False\n",
            "Null Hypothesis is Rejected\n",
            "The means of sepal width between versicolor and virginica are different\n"
          ]
        }
      ],
      "source": [
        "#We'll use t-test to test whether the population means are same or not\n",
        "print(st.ttest_ind(a = dataVirginica['Sepal width'], b = dataVersicolor['Sepal width'], equal_var=False))\n",
        "\n",
        "#t-test\n",
        "alpha = 0.05\n",
        "print(\"Significance Level:\",alpha)\n",
        "result = check_null_hypothesis(dataVirginica['Sepal width'],dataVersicolor['Sepal width'],alpha)\n",
        "print(\"Is Null hypothesis true? :\", result)\n",
        "\n",
        "if result:\n",
        "  print(\"Null Hypothesis is Accepted\")\n",
        "  print(\"The means of sepal width between versicolor and virginica are same\")\n",
        "else:\n",
        "  print(\"Null Hypothesis is Rejected\")\n",
        "  print(\"The means of sepal width between versicolor and virginica are different\")"
      ]
    },
    {
      "cell_type": "markdown",
      "metadata": {
        "id": "Lp2UyzQidm-O"
      },
      "source": [
        "10. A quick look at the data shows that Petal.Length of class setosa is shorter than the \n",
        "Petal.Length of other classes (virginica and versicolor) -- is that true? Write your code to \n",
        "investigate this claim."
      ]
    },
    {
      "cell_type": "markdown",
      "metadata": {
        "id": "WrkBc_2Uf2vg"
      },
      "source": []
    },
    {
      "cell_type": "code",
      "execution_count": 25,
      "metadata": {
        "colab": {
          "base_uri": "https://localhost:8080/"
        },
        "id": "aba7qdl7fYvv",
        "outputId": "990df7da-b309-4141-ae92-22b847d2a05c"
      },
      "outputs": [
        {
          "output_type": "stream",
          "name": "stdout",
          "text": [
            "False\n",
            "False\n",
            "5.5520000000000005 4.26 1.464\n"
          ]
        }
      ],
      "source": [
        "print(check_null_hypothesis(dataVirginica['Petal length'],dataSetosa['Petal length'],alpha))    \n",
        "print(check_null_hypothesis(dataVersicolor['Petal length'],dataSetosa['Petal length'],alpha))  \n",
        "print(np.mean(dataVirginica['Petal length']),np.mean(dataVersicolor['Petal length']),np.mean(dataSetosa['Petal length']))"
      ]
    },
    {
      "cell_type": "markdown",
      "metadata": {
        "id": "ahi1Nptcf4Io"
      },
      "source": [
        "The mean of setosa is less than virginica and versicolor. Also the null hypothesis can be rejected for both cases. Hence, it is true that the petal length of class setosa is shorter than the petal length of other classes (virginica and versicolor)"
      ]
    },
    {
      "cell_type": "markdown",
      "metadata": {
        "id": "Krq224V4gDlt"
      },
      "source": [
        "11. How does one variable (out of those four RVs) compares to others? Are these correlated? \n",
        "Write your code to investigate this and interpret your results from the code outputs."
      ]
    },
    {
      "cell_type": "code",
      "execution_count": 26,
      "metadata": {
        "colab": {
          "base_uri": "https://localhost:8080/"
        },
        "id": "m-KkcjCBfgQA",
        "outputId": "3bc7c425-e888-4b0f-e690-7865b543974a"
      },
      "outputs": [
        {
          "output_type": "stream",
          "name": "stdout",
          "text": [
            "Correlation Coefficient between Sepal length and Sepal width -0.10936924995064937\n",
            "Correlation Coefficient between Petal length and Petal width 0.9627570970509663\n",
            "Correlation Coefficient between Petal length and Sepal width -0.42051609640115445\n",
            "Correlation Coefficient between Sepal length and Petal width 0.8179536333691636\n",
            "Correlation Coefficient between Sepal length and Petal length 0.8717541573048718\n",
            "Correlation Coefficient between Sepal width and Petal width -0.35654408961380535\n"
          ]
        }
      ],
      "source": [
        "#correlations between different RV's\n",
        "print(\"Correlation Coefficient between Sepal length and Sepal width\",np.corrcoef(data['Sepal length'], data['Sepal width'])[0][1]) #negatively correlated \n",
        "print(\"Correlation Coefficient between Petal length and Petal width\",np.corrcoef(data['Petal length'], data['Petal width'])[0][1]) #strongly correalted positively\n",
        "print(\"Correlation Coefficient between Petal length and Sepal width\",np.corrcoef(data['Petal length'], data['Sepal width'])[0][1]) #negatively correlated \n",
        "print(\"Correlation Coefficient between Sepal length and Petal width\",np.corrcoef(data['Sepal length'], data['Petal width'])[0][1]) #positively correalted (strong linear)\n",
        "print(\"Correlation Coefficient between Sepal length and Petal length\",np.corrcoef(data['Sepal length'], data['Petal length'])[0][1]) #positively correalted (strong linear)\n",
        "print(\"Correlation Coefficient between Sepal width and Petal width\",np.corrcoef(data['Petal width'], data['Sepal width'])[0][1])  #negatively correlated "
      ]
    },
    {
      "cell_type": "markdown",
      "metadata": {
        "id": "gY64e0CZg9aX"
      },
      "source": [
        "Sepal length and width are weakly negatively correlated.\n",
        "Petal length and sepal width are negatively correlated.\n",
        "Petal and sepal width are negatively correlated.\n",
        "Petal length and width are strongly correlated postively.\n",
        "Sepal length and petal width are positively correlated.\n",
        "Sepal and petal length are positively correlated."
      ]
    },
    {
      "cell_type": "markdown",
      "metadata": {
        "id": "Oeuj8genhD2C"
      },
      "source": [
        "12. Write your code to investigate the relationship between sepal length and sepal width using \n",
        "correlation coefficients, test of correlation, and linear regression. Interpret all your results. "
      ]
    },
    {
      "cell_type": "code",
      "execution_count": 27,
      "metadata": {
        "colab": {
          "base_uri": "https://localhost:8080/"
        },
        "id": "MPfvLglrg1OJ",
        "outputId": "27f88d77-da6f-476a-eb05-4a4c2b640312"
      },
      "outputs": [
        {
          "output_type": "stream",
          "name": "stdout",
          "text": [
            "Null Hypothesis: Correlation Coefficient between Sepal Length and Sepal Width = 0\n",
            "Correlation coefficient: -0.10936924995064937\n",
            "Null hypothesis true\n"
          ]
        }
      ],
      "source": [
        "print(\"Null Hypothesis: Correlation Coefficient between Sepal Length and Sepal Width = 0\")\n",
        "\n",
        "\n",
        "#correlation coefficients\n",
        "correlation = np.corrcoef(data['Sepal length'], data['Sepal width'])[0][1]\n",
        "print(\"Correlation coefficient:\",correlation) #negatively correlated \n",
        "\n",
        "#test of correlation\n",
        "length = len(data['Sepal length'])\n",
        "t = (correlation*sqrt(length))/sqrt(1-correlation*correlation)                  \n",
        "degree = len(data['Sepal length'])-2\n",
        "\n",
        "upper_bound = st.t.ppf(0.025, df=degree)\n",
        "lower_bound = st.t.ppf(1 - 0.025, df=degree)\n",
        "                          \n",
        "if t < 0:\n",
        "    if t > upper_bound:\n",
        "        print(\"Null hypothesis true\")\n",
        "    else:\n",
        "        print(\"Null hypothesis can be rejected\")\n",
        "else:\n",
        "    if t < lower_bound:  \n",
        "        print(\"Null hypothesis true\")\n",
        "    else:\n",
        "        print(\"Null hypothesis can be rejected\")"
      ]
    },
    {
      "cell_type": "markdown",
      "metadata": {
        "id": "JAcsgpEThoGg"
      },
      "source": [
        "Null hypothesis is true. Hence we can say that correlation is 0 i.e. not correlated."
      ]
    },
    {
      "cell_type": "code",
      "execution_count": 36,
      "metadata": {
        "colab": {
          "base_uri": "https://localhost:8080/",
          "height": 299
        },
        "id": "xRYciK6ohfQz",
        "outputId": "3134d76e-0af3-43f4-ef47-9c917cebacc0"
      },
      "outputs": [
        {
          "output_type": "stream",
          "name": "stdout",
          "text": [
            "The score of the model of linear regression is: 0.0119616328347677\n"
          ]
        },
        {
          "output_type": "display_data",
          "data": {
            "text/plain": [
              "<Figure size 432x288 with 1 Axes>"
            ],
            "image/png": "[encoded data removed]"
          },
          "metadata": {
            "needs_background": "light"
          }
        }
      ],
      "source": [
        "model = LinearRegression()\n",
        "X = np.array(data['Sepal length']).reshape((-1,1))\n",
        "Y = np.array(data['Sepal width'])\n",
        "model.fit(X, Y)\n",
        "score = model.score(X, Y)\n",
        "print(\"The score of the model of linear regression is:\", score)\n",
        "plt.scatter(data['Sepal length'], data['Sepal width'],color = 'green')\n",
        "plt.xlabel('Sepal length')\n",
        "plt.ylabel('sepal width')\n",
        "plt.show()"
      ]
    },
    {
      "cell_type": "markdown",
      "metadata": {
        "id": "rYBExHEVh1qe"
      },
      "source": [
        "Hence, we can say that the model cannot be linearly expressed."
      ]
    },
    {
      "cell_type": "markdown",
      "source": [
        "13. Write your code to determine the equation of linear regression that links petal length and petal width. Use this equation of line to predict petal width from unknown petal length value. \n"
      ],
      "metadata": {
        "id": "80AOJgHynEBg"
      }
    },
    {
      "cell_type": "markdown",
      "metadata": {
        "id": "ea80sIz4h7xm"
      },
      "source": []
    },
    {
      "cell_type": "code",
      "execution_count": 37,
      "metadata": {
        "colab": {
          "base_uri": "https://localhost:8080/",
          "height": 348
        },
        "id": "fjJ9M1xahwj5",
        "outputId": "0dcff454-4be9-4cec-b61b-e0359e07f8e1"
      },
      "outputs": [
        {
          "output_type": "stream",
          "name": "stdout",
          "text": [
            "The score of the model of linear regression is: 0.9269012279220037\n",
            "slope b1 is 0.4164191322854009\n",
            "intercept b0 is -0.3665140452167266\n"
          ]
        },
        {
          "output_type": "execute_result",
          "data": {
            "text/plain": [
              "Text(0, 0.5, 'Petal width')"
            ]
          },
          "metadata": {},
          "execution_count": 37
        },
        {
          "output_type": "display_data",
          "data": {
            "text/plain": [
              "<Figure size 432x288 with 1 Axes>"
            ],
            "image/png": "[encoded data removed]"
          },
          "metadata": {
            "needs_background": "light"
          }
        }
      ],
      "source": [
        "model = LinearRegression()\n",
        "X = np.array(data['Petal length']).reshape((-1,1))\n",
        "model.fit(X, np.array(data['Petal width']))\n",
        "score = model.score(X, data['Petal width'])\n",
        "print(\"The score of the model of linear regression is:\", score)\n",
        "\n",
        "n = len(data['Petal width'])\n",
        "x = data['Petal length']\n",
        "y = data['Petal width']\n",
        "x_mean = np.mean(x)\n",
        "y_mean = np.mean(y)\n",
        "  \n",
        "Sxy = np.sum(x*y)- n*x_mean*y_mean\n",
        "Sxx = np.sum(x*x)-n*x_mean*x_mean\n",
        "  \n",
        "b1 = Sxy/Sxx\n",
        "b0 = y_mean-b1*x_mean\n",
        "print('slope b1 is', b1)\n",
        "print('intercept b0 is', b0)\n",
        "  \n",
        "y_pred = b1 * x + b0\n",
        "  \n",
        "plt.scatter(x, y, color = 'blue')\n",
        "plt.plot(x, y_pred, color = 'red')\n",
        "plt.xlabel('Petal length')\n",
        "plt.ylabel('Petal width')"
      ]
    },
    {
      "cell_type": "markdown",
      "source": [
        "14. Heatmap is a data visualization technique that is used to analyze the dataset as colors in two dimensions. Basically, it shows a correlation between all numerical variables in the dataset. In simpler terms, we can plot the above-found correlation using the heatmaps as shown in the example figure below. Write your code to generate this heatmap for the IRIS datatset. "
      ],
      "metadata": {
        "id": "hjYV1qOJnPyu"
      }
    },
    {
      "cell_type": "code",
      "source": [
        "data_hm = [[0 for _ in range(4)] for _ in range(4)]\n",
        "\n",
        "properties = [data['Petal length'], data['Petal width'], data['Sepal length'], data['Sepal width']]\n",
        "\n",
        "for i in range(4):\n",
        "    for j in range(4):\n",
        "        data_hm[i][j] = np.corrcoef(properties[i], properties[j])[0][1]\n",
        "\n",
        "sns.heatmap(data_hm, annot=True, xticklabels=['Petal length', 'Petal width', 'Sepal length', 'Sepal width'], yticklabels=['Petal length', 'Petal width', 'Sepal length', 'Sepal width'])\n",
        "plt.title( \"2-D Heat Map for iris dataset\")\n",
        "plt.show()"
      ],
      "metadata": {
        "colab": {
          "base_uri": "https://localhost:8080/",
          "height": 281
        },
        "id": "xrg6nSYtm7oD",
        "outputId": "6d3f2266-51b1-4f2b-e22b-d5909ff063c2"
      },
      "execution_count": 38,
      "outputs": [
        {
          "output_type": "display_data",
          "data": {
            "text/plain": [
              "<Figure size 432x288 with 2 Axes>"
            ],
            "image/png": "[encoded data removed]"
          },
          "metadata": {
            "needs_background": "light"
          }
        }
      ]
    }
  ],
  "metadata": {
    "colab": {
      "provenance": []
    },
    "kernelspec": {
      "display_name": "Python 3",
      "name": "python3"
    },
    "language_info": {
      "name": "python"
    },
    "accelerator": "GPU",
    "gpuClass": "standard"
  },
  "nbformat": 4,
  "nbformat_minor": 0
}